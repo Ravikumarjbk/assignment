{
 "cells": [
  {
   "cell_type": "code",
   "execution_count": 1,
   "id": "27f3b757-0ed3-42db-842e-869aad36b093",
   "metadata": {},
   "outputs": [],
   "source": [
    "#Q1>\n",
    "class vehicle:\n",
    "    def __init__(self, name_of_vehicle, max_speed, avrg_of_vehicle):\n",
    "        self.name_of_vehicle = name_of_vehicle\n",
    "        self.max_speed = max_speed\n",
    "        self.avrg_of_vehicle = avrg_of_vehicle\n",
    "obj_vehicle = vehicle('TATA', 300, 90)\n",
    "    "
   ]
  },
  {
   "cell_type": "code",
   "execution_count": 3,
   "id": "2ae474c2-084a-41bc-aace-178d9c942d36",
   "metadata": {},
   "outputs": [],
   "source": [
    "#Q2>\n",
    "class vehicle:\n",
    "    def __init__(self, vehicle_type, speed, avg_speed):\n",
    "        self.vehicle_type = vehicle_type\n",
    "        self.speed = speed\n",
    "        self.avg_speed = avg_speed\n",
    "    def car_info(self):\n",
    "        pass\n",
    "    "
   ]
  },
  {
   "cell_type": "code",
   "execution_count": 4,
   "id": "bd58375e-fa1a-4a9e-9e41-649e307d8730",
   "metadata": {},
   "outputs": [],
   "source": [
    "class car(vehicle):\n",
    "    def car_info(self):\n",
    "        return 'Inside car info'"
   ]
  },
  {
   "cell_type": "code",
   "execution_count": 12,
   "id": "40aa706c-754f-4c67-af18-3ea5175cf288",
   "metadata": {},
   "outputs": [],
   "source": [
    "obj_car = car()"
   ]
  },
  {
   "cell_type": "code",
   "execution_count": 14,
   "id": "bd0153fc-04e3-4c9e-ad96-7ad4937f6d18",
   "metadata": {},
   "outputs": [
    {
     "data": {
      "text/plain": [
       "'Inside vehicle info'"
      ]
     },
     "execution_count": 14,
     "metadata": {},
     "output_type": "execute_result"
    }
   ],
   "source": [
    "obj_car.vehicle_info()"
   ]
  },
  {
   "cell_type": "code",
   "execution_count": 15,
   "id": "8d9ff4ed-fdd7-4a35-b8d0-df7d5972957a",
   "metadata": {},
   "outputs": [],
   "source": [
    "#Q3>\n",
    "#one child class can inherit from diffrent parent class\n",
    "class A:\n",
    "    def func_A(self):\n",
    "        return 'This is in class A'\n",
    "class B:\n",
    "    def func_B(self):\n",
    "        return 'This is in class B'\n",
    "class C (A, B):\n",
    "    def func_C(self):\n",
    "        return 'This is in class C'\n"
   ]
  },
  {
   "cell_type": "code",
   "execution_count": 24,
   "id": "b87eb829-acac-495d-b823-af51b810bd43",
   "metadata": {},
   "outputs": [],
   "source": [
    "obj_C = C()"
   ]
  },
  {
   "cell_type": "code",
   "execution_count": 26,
   "id": "e34bc19b-d51d-4d99-908f-d445287e24aa",
   "metadata": {},
   "outputs": [
    {
     "data": {
      "text/plain": [
       "'This is in class C'"
      ]
     },
     "execution_count": 26,
     "metadata": {},
     "output_type": "execute_result"
    }
   ],
   "source": [
    "obj_C.func_A()\n",
    "obj_C.func_B()\n",
    "obj_C.func_C()"
   ]
  },
  {
   "cell_type": "code",
   "execution_count": 27,
   "id": "7810dfa2-0289-490d-9ea1-e316cb59d880",
   "metadata": {},
   "outputs": [],
   "source": [
    "#Q4>\n",
    "#getter: In this it allow to access an attribute in the given class\n",
    "#setter: it allow to set or mutate attribute to given class"
   ]
  },
  {
   "cell_type": "code",
   "execution_count": 30,
   "id": "93e1f757-3f35-4a6b-8a1c-4aa0db73e120",
   "metadata": {},
   "outputs": [],
   "source": [
    "class Sample:\n",
    "    def __init__(self, a):\n",
    "        self.__a = a\n",
    "    def get_a(self):\n",
    "        return self.__a\n",
    "    def set_a(self,a):\n",
    "        self.__a = a\n",
    "obj_samp = Sample(10)"
   ]
  },
  {
   "cell_type": "code",
   "execution_count": 34,
   "id": "10b8e991-73e9-4338-91b2-fc202cf05eb5",
   "metadata": {},
   "outputs": [
    {
     "data": {
      "text/plain": [
       "20"
      ]
     },
     "execution_count": 34,
     "metadata": {},
     "output_type": "execute_result"
    }
   ],
   "source": [
    "obj_samp.set_a(20)\n",
    "obj_samp.get_a()"
   ]
  },
  {
   "cell_type": "code",
   "execution_count": 35,
   "id": "3f29a259-c788-4f40-9a4c-2f6450070293",
   "metadata": {},
   "outputs": [],
   "source": [
    "#Q5>allow us to change implemention of fuction in child class that defind the parent class  It is the ability of a child class to change the implementation of any method which is already provided by one of its parent class "
   ]
  },
  {
   "cell_type": "code",
   "execution_count": 37,
   "id": "587c8a2a-1590-4a3d-8ffc-cb7cfa67db78",
   "metadata": {},
   "outputs": [],
   "source": [
    "class Animal:\n",
    "    def breath(self):\n",
    "        print('I breath oxygen only')\n",
    "    def feed(self):\n",
    "        print('I eat food')"
   ]
  },
  {
   "cell_type": "code",
   "execution_count": 38,
   "id": "e1ff4bec-7aea-4397-9c26-f8d3577ed8b8",
   "metadata": {},
   "outputs": [],
   "source": [
    "class Herbivorous(Animal):\n",
    "    def feed(self):\n",
    "        print('i eat only plant')"
   ]
  },
  {
   "cell_type": "code",
   "execution_count": 39,
   "id": "57e6da0d-339b-4cc8-97f3-4945387f689e",
   "metadata": {},
   "outputs": [],
   "source": [
    "obj_harbi = Herbivorous()"
   ]
  },
  {
   "cell_type": "code",
   "execution_count": null,
   "id": "f008b62f-77ee-401e-8d3e-5b1d2e258fa2",
   "metadata": {},
   "outputs": [],
   "source": [
    "obj_harbi"
   ]
  }
 ],
 "metadata": {
  "kernelspec": {
   "display_name": "Python 3 (ipykernel)",
   "language": "python",
   "name": "python3"
  },
  "language_info": {
   "codemirror_mode": {
    "name": "ipython",
    "version": 3
   },
   "file_extension": ".py",
   "mimetype": "text/x-python",
   "name": "python",
   "nbconvert_exporter": "python",
   "pygments_lexer": "ipython3",
   "version": "3.10.8"
  }
 },
 "nbformat": 4,
 "nbformat_minor": 5
}
