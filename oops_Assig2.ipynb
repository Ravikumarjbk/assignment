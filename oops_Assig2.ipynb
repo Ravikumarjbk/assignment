{
 "cells": [
  {
   "cell_type": "markdown",
   "id": "94218190-4774-4553-86ae-9be6a7390730",
   "metadata": {},
   "source": [
    "Q1> it is handling complexity by hiding unnecessary information from user"
   ]
  },
  {
   "cell_type": "code",
   "execution_count": 2,
   "id": "e9a2037d-2454-4bd8-85f7-308ddd09b7c3",
   "metadata": {},
   "outputs": [],
   "source": [
    "import abc\n",
    "class vehicle:\n",
    "    @abc.abstractmethod\n",
    "    def vehile_details(self):\n",
    "        pass\n",
    "    @abc.abstractmethod\n",
    "    def vehicle_owner_details(self):\n",
    "        pass\n",
    "    "
   ]
  },
  {
   "cell_type": "code",
   "execution_count": 3,
   "id": "04494407-ae33-4b36-aedd-63dfa6bf441d",
   "metadata": {},
   "outputs": [],
   "source": [
    "class car(vehicle):\n",
    "    def vehile_details(self):\n",
    "        return 'this car module is TATA series'\n",
    "    def vehicle_owner_details(self):\n",
    "        return 'owner of this car is ramesh chandra'"
   ]
  },
  {
   "cell_type": "code",
   "execution_count": 5,
   "id": "4666ea43-e5a1-4758-b9ea-4a6f9940ef04",
   "metadata": {},
   "outputs": [
    {
     "data": {
      "text/plain": [
       "'owner of this car is ramesh chandra'"
      ]
     },
     "execution_count": 5,
     "metadata": {},
     "output_type": "execute_result"
    }
   ],
   "source": [
    "obj_car = car()\n",
    "obj_car.vehicle_owner_details()"
   ]
  },
  {
   "cell_type": "markdown",
   "id": "a76339d1-a3bc-4b2e-b07c-3d31b96697d4",
   "metadata": {},
   "source": [
    "@2>abstraction is used for hiding data data and giving relevant data/\n",
    "encapsulation is hiding the code and data into single unit to protect the data fromm outer world"
   ]
  },
  {
   "cell_type": "markdown",
   "id": "af87e822-1af6-4c80-8662-08440175fa8a",
   "metadata": {},
   "source": [
    "#Q3>The 'abc' module in Python library provides the infrastructure for defining custom abstract base classes.\n",
    "\n",
    "'abc' works by marking methods of the base class as abstract. This is done by @absttractmethod decorator"
   ]
  },
  {
   "cell_type": "markdown",
   "id": "e5a43a70-1eba-4a9c-8d41-db9ba7c3e4c9",
   "metadata": {},
   "source": [
    "#Q4>Data abstraction is a method where essential elements are displayed to the user and trivial elements are kept hidden"
   ]
  },
  {
   "cell_type": "code",
   "execution_count": null,
   "id": "84638715-7ad4-4af5-a9b1-53f471c9a368",
   "metadata": {},
   "outputs": [],
   "source": [
    "#Q5>"
   ]
  }
 ],
 "metadata": {
  "kernelspec": {
   "display_name": "Python 3 (ipykernel)",
   "language": "python",
   "name": "python3"
  },
  "language_info": {
   "codemirror_mode": {
    "name": "ipython",
    "version": 3
   },
   "file_extension": ".py",
   "mimetype": "text/x-python",
   "name": "python",
   "nbconvert_exporter": "python",
   "pygments_lexer": "ipython3",
   "version": "3.10.8"
  }
 },
 "nbformat": 4,
 "nbformat_minor": 5
}
