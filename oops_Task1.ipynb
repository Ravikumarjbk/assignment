{
 "cells": [
  {
   "cell_type": "markdown",
   "id": "d1d4b5c3-0118-4643-860a-9db8c50a1b0e",
   "metadata": {},
   "source": [
    "#Q1>class: it is a blueprint or object constructor for creating a object "
   ]
  },
  {
   "cell_type": "code",
   "execution_count": 1,
   "id": "11030c9f-9538-4e22-ada9-63227ea841de",
   "metadata": {},
   "outputs": [
    {
     "name": "stdout",
     "output_type": "stream",
     "text": [
      "college is for study\n"
     ]
    }
   ],
   "source": [
    "class college:\n",
    "    def college_details(self):\n",
    "        print('college is for study')\n",
    "obj_coll = college()\n",
    "obj_coll.college_details()"
   ]
  },
  {
   "cell_type": "markdown",
   "id": "4d095110-da20-46bb-86ac-10d448a5277a",
   "metadata": {},
   "source": [
    "#Q2>Encapsulation\n",
    "   >Poymorphism\n",
    "   >Inheritence\n",
    "   >Abstraction"
   ]
  },
  {
   "cell_type": "code",
   "execution_count": 2,
   "id": "73f9206c-6208-4758-8c98-95397f00bde1",
   "metadata": {},
   "outputs": [],
   "source": [
    "#Q3>it is a constructor that get the input"
   ]
  },
  {
   "cell_type": "code",
   "execution_count": 11,
   "id": "f0716cb3-27fb-496f-bfe5-b28951a57a96",
   "metadata": {},
   "outputs": [
    {
     "data": {
      "text/plain": [
       "'p.h.d'"
      ]
     },
     "execution_count": 11,
     "metadata": {},
     "output_type": "execute_result"
    }
   ],
   "source": [
    "class Programming:\n",
    "    def __init__(self,name,education,hobby):\n",
    "        self.name = name\n",
    "        self.education = education\n",
    "        self.hobby = hobby\n",
    "    def per_details(self):\n",
    "        print('basic information of this person')\n",
    "obj_prog = Programming('joy', 'p.h.d', 'golf')\n",
    "obj_prog.education"
   ]
  },
  {
   "cell_type": "code",
   "execution_count": 12,
   "id": "f909fde1-bf8c-4bac-af82-05bb0fd4189d",
   "metadata": {},
   "outputs": [],
   "source": [
    "#Q4>it represent instance of class. it allow to access variable or attribute "
   ]
  },
  {
   "cell_type": "code",
   "execution_count": null,
   "id": "6d97cde5-9733-4d9a-8098-404f393c09a1",
   "metadata": {},
   "outputs": [],
   "source": [
    "#Q5>it is inherit from one class to other class\n",
    "#multilevel inheritance, multiple inheritace, hi"
   ]
  }
 ],
 "metadata": {
  "kernelspec": {
   "display_name": "Python 3 (ipykernel)",
   "language": "python",
   "name": "python3"
  },
  "language_info": {
   "codemirror_mode": {
    "name": "ipython",
    "version": 3
   },
   "file_extension": ".py",
   "mimetype": "text/x-python",
   "name": "python",
   "nbconvert_exporter": "python",
   "pygments_lexer": "ipython3",
   "version": "3.10.8"
  }
 },
 "nbformat": 4,
 "nbformat_minor": 5
}
