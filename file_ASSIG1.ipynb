{
 "cells": [
  {
   "cell_type": "markdown",
   "id": "5acd227e-7f0c-4d97-9dad-ff995bff8fab",
   "metadata": {},
   "source": [
    "Q1>Exception is abitity to handle the error.\n",
    "An Exception is an event that occurs during the program execution and disrupts the normal flow of the program's execution. Errors mostly happen at compile-time like syntax error; however it can happen at runtime as well. Whereas an Exception occurs at runtime"
   ]
  },
  {
   "cell_type": "code",
   "execution_count": 4,
   "id": "1e994c18-c929-491c-a1d2-9c7e9d98ca03",
   "metadata": {},
   "outputs": [],
   "source": [
    "#Q2>As you saw earlier, when syntactically correct code runs into an error, Python will throw an exception error.\n"
   ]
  },
  {
   "cell_type": "code",
   "execution_count": 5,
   "id": "719aec23-5140-4f06-b89c-82cfc05227b6",
   "metadata": {},
   "outputs": [],
   "source": [
    "try:\n",
    "    a = 1/0\n",
    "#code is check for finally block"
   ]
  },
  {
   "cell_type": "code",
   "execution_count": 6,
   "id": "0896a128-35e0-4a4b-bcd3-389c43390913",
   "metadata": {},
   "outputs": [],
   "source": [
    "#Q3>The try and except block in Python is used to catch and handle exceptions"
   ]
  },
  {
   "cell_type": "code",
   "execution_count": 7,
   "id": "812c8288-7a2c-4e5a-a080-b58c3429811b",
   "metadata": {},
   "outputs": [
    {
     "name": "stdout",
     "output_type": "stream",
     "text": [
      "division by zero\n"
     ]
    }
   ],
   "source": [
    "try:\n",
    "    a = 1/0\n",
    "except Exception as e:\n",
    "    print(e)"
   ]
  },
  {
   "cell_type": "markdown",
   "id": "7575b5f9-7b95-4a36-b2ff-5f44fd7d4e2d",
   "metadata": {},
   "source": [
    "#Q4>try: The try block lets you test a block of code for errors. The except block lets you handle the error\n",
    "finally: it is execute in every scenario\n",
    "else: if code does not goes in except then this block execute\n",
    "rase: it raise exception"
   ]
  },
  {
   "cell_type": "markdown",
   "id": "3f33bbf6-d1ca-4d1d-b0ca-cc17963a5ac8",
   "metadata": {},
   "source": [
    "#Q5>custom exception where user create it's own exception, because specific exception is limited"
   ]
  },
  {
   "cell_type": "code",
   "execution_count": 9,
   "id": "114b1d85-1b8e-4f1d-aa87-3b7470e5a610",
   "metadata": {},
   "outputs": [],
   "source": [
    "#Q6>\n",
    "class validateage(Exception):\n",
    "    def __init__(self, msg):\n",
    "        self.msg = msg\n",
    "        "
   ]
  },
  {
   "cell_type": "code",
   "execution_count": 10,
   "id": "e1510c60-993c-447c-9ab1-2a74b8c02c13",
   "metadata": {},
   "outputs": [],
   "source": [
    "def validateage(age):\n",
    "    if age < 0:\n",
    "        raise 'age is not valid'\n",
    "    elif age >200:\n",
    "        raise'age is very above'\n",
    "    else:\n",
    "        raise'valid age'"
   ]
  },
  {
   "cell_type": "code",
   "execution_count": null,
   "id": "ab9817e7-d050-449f-99da-b28ad03a83ec",
   "metadata": {},
   "outputs": [],
   "source": [
    "try:\n",
    "    a = int(input('enter age'))\n",
    "except validateage as e:\n",
    "    print(e)"
   ]
  },
  {
   "cell_type": "code",
   "execution_count": null,
   "id": "0d13bc5e-07fe-4457-ab16-f12c9fbf9a56",
   "metadata": {},
   "outputs": [],
   "source": []
  }
 ],
 "metadata": {
  "kernelspec": {
   "display_name": "Python 3 (ipykernel)",
   "language": "python",
   "name": "python3"
  },
  "language_info": {
   "codemirror_mode": {
    "name": "ipython",
    "version": 3
   },
   "file_extension": ".py",
   "mimetype": "text/x-python",
   "name": "python",
   "nbconvert_exporter": "python",
   "pygments_lexer": "ipython3",
   "version": "3.10.8"
  }
 },
 "nbformat": 4,
 "nbformat_minor": 5
}
